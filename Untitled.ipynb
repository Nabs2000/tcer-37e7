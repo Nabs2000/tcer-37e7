{
 "cells": [
  {
   "cell_type": "code",
   "execution_count": 1,
   "id": "ca8b80d2-7ec9-4312-ad19-f6729d73fb49",
   "metadata": {},
   "outputs": [
    {
     "name": "stderr",
     "output_type": "stream",
     "text": [
      "C:\\Users\\deoxy\\anaconda3\\lib\\site-packages\\numpy\\_distributor_init.py:30: UserWarning: loaded more than 1 DLL from .libs:\n",
      "C:\\Users\\deoxy\\anaconda3\\lib\\site-packages\\numpy\\.libs\\libopenblas.EL2C6PLE4ZYW3ECEVIV3OXXGRN2NRFM2.gfortran-win_amd64.dll\n",
      "C:\\Users\\deoxy\\anaconda3\\lib\\site-packages\\numpy\\.libs\\libopenblas.XWYDX2IKJW2NMTWSFYNGFUWKQU3LYTCZ.gfortran-win_amd64.dll\n",
      "  warnings.warn(\"loaded more than 1 DLL from .libs:\"\n"
     ]
    },
    {
     "data": {
      "text/plain": [
       "False"
      ]
     },
     "execution_count": 1,
     "metadata": {},
     "output_type": "execute_result"
    }
   ],
   "source": [
    "from scipy.io import loadmat\n",
    "import torch\n",
    "# data = loadmat('./data/CellularTax_dataSAVER10-2000.mat')\n",
    "# train_genomaps = data[\"train_genoMaps\"]   #  ==> w x h x c x #cells\n",
    "# train_genomaps_GT = data[\"train_genoMaps_GT\"] # reference data for genomaps in the training set\n",
    "# test_genomaps = data[\"test_genoMaps\"] \n",
    "# test_genomaps_GT = data[\"test_genoMaps_GT\"]  # reference data for genomaps in the test set\n",
    "torch.cuda.is_available()"
   ]
  },
  {
   "cell_type": "code",
   "execution_count": 3,
   "id": "42f31620-27b6-41a3-b220-20c5330c0959",
   "metadata": {},
   "outputs": [
    {
     "name": "stdout",
     "output_type": "stream",
     "text": [
      "Python 3.7.1\n"
     ]
    }
   ],
   "source": [
    "!python --version"
   ]
  },
  {
   "cell_type": "code",
   "execution_count": 11,
   "id": "9bdeb9f4-c54b-47ac-b885-0fc29bee1c7f",
   "metadata": {},
   "outputs": [
    {
     "name": "stdout",
     "output_type": "stream",
     "text": [
      "Namespace(GenoMap=1, Hratio=0.25, Lratio=0.1, batch_size=64, data_root='./data/CellularTax_dataSAVER10-2000.mat', dataset='CellularTax', device='cuda:0', ema_decay=0.99, epoch_suffix='Newest', epochs=50, eval_data_root='./data/CellularTax_dataSAVER10-2000.mat', eval_dataset=False, eval_step=5000, lr=0.0002, lr_decay=True, lr_decay_rate=0.5, lr_decay_win=4, model_dir='./trained_models/CellularTax_10-2000_GMImpute', model_name='CellularTax_10-2000_GMImpute', model_pretrain='', n_threads=0, net='GMImpute', no_lr_sche=False, ori_size=49, pre_train_epochs=10, rate='10-2000', resume=False, reverse=True, save_dir='./results/', target_size=52, testset='its_test', trainset='its_train', w1=0, w2=0, w_loss_f=0.02, w_loss_l1=1)\n",
      "model_dir: ./trained_models/CellularTax_10-2000_GMImpute\n",
      "log_dir: logs_train/CellularTax_10-2000_GMImpute\n"
     ]
    },
    {
     "name": "stderr",
     "output_type": "stream",
     "text": [
      "Traceback (most recent call last):\n",
      "  File \"train_genoMap.py\", line 243, in <module>\n",
      "    net = net.to(opt.device)\n",
      "  File \"C:\\Users\\deoxy\\anaconda3\\envs\\tcer_sandbox\\lib\\site-packages\\torch\\nn\\modules\\module.py\", line 607, in to\n",
      "    return self._apply(convert)\n",
      "  File \"C:\\Users\\deoxy\\anaconda3\\envs\\tcer_sandbox\\lib\\site-packages\\torch\\nn\\modules\\module.py\", line 354, in _apply\n",
      "    module._apply(fn)\n",
      "  File \"C:\\Users\\deoxy\\anaconda3\\envs\\tcer_sandbox\\lib\\site-packages\\torch\\nn\\modules\\module.py\", line 354, in _apply\n",
      "    module._apply(fn)\n",
      "  File \"C:\\Users\\deoxy\\anaconda3\\envs\\tcer_sandbox\\lib\\site-packages\\torch\\nn\\modules\\module.py\", line 376, in _apply\n",
      "    param_applied = fn(param)\n",
      "  File \"C:\\Users\\deoxy\\anaconda3\\envs\\tcer_sandbox\\lib\\site-packages\\torch\\nn\\modules\\module.py\", line 605, in convert\n",
      "    return t.to(device, dtype if t.is_floating_point() else None, non_blocking)\n",
      "  File \"C:\\Users\\deoxy\\anaconda3\\envs\\tcer_sandbox\\lib\\site-packages\\torch\\cuda\\__init__.py\", line 186, in _lazy_init\n",
      "    _check_driver()\n",
      "  File \"C:\\Users\\deoxy\\anaconda3\\envs\\tcer_sandbox\\lib\\site-packages\\torch\\cuda\\__init__.py\", line 68, in _check_driver\n",
      "    http://www.nvidia.com/Download/index.aspx\"\"\")\n",
      "AssertionError: \n",
      "Found no NVIDIA driver on your system. Please check that you\n",
      "have an NVIDIA GPU and installed a driver from\n",
      "http://www.nvidia.com/Download/index.aspx\n"
     ]
    }
   ],
   "source": [
    "!python train_genoMap.py --dataset \"CellularTax\" --rate \"10-2000\" --epochs 50"
   ]
  },
  {
   "cell_type": "code",
   "execution_count": null,
   "id": "b1c487d1-436a-4868-9570-c73180f31ba2",
   "metadata": {},
   "outputs": [],
   "source": []
  }
 ],
 "metadata": {
  "kernelspec": {
   "display_name": "Python 3 (ipykernel)",
   "language": "python",
   "name": "python3"
  },
  "language_info": {
   "codemirror_mode": {
    "name": "ipython",
    "version": 3
   },
   "file_extension": ".py",
   "mimetype": "text/x-python",
   "name": "python",
   "nbconvert_exporter": "python",
   "pygments_lexer": "ipython3",
   "version": "3.9.18"
  }
 },
 "nbformat": 4,
 "nbformat_minor": 5
}
